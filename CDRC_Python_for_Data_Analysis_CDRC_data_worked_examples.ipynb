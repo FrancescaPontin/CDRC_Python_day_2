{
 "cells": [
  {
   "cell_type": "markdown",
   "metadata": {},
   "source": [
    "<img style=\"float: right;margin:0 10px 10px 0\" src=\"screenshots/cdrc_logo.png\" width=180>\n",
    "\n",
    "#  CDRC Beginner’s Python for Data Analysis (Day 2) <a class=\"tocSkip\">\n",
    "<br>\n",
    "\n",
    "* #### Full course materials at [francescapontin.com](http://francescapontin.com/teaching_materials.html)<a class=\"tocSkip\">\n",
    "* #### Course overview <img style=\"float: right;margin:0 10px 10px 0\" src=\"screenshots/LIDA-logo.png\" width=180><a class=\"tocSkip\">\n",
    "* #### Post course queries: F.L.Pontin@leeds.ac.uk <a class=\"tocSkip\">"
   ]
  },
  {
   "cell_type": "markdown",
   "metadata": {},
   "source": [
    "09.30-10.45: Spatial data visualisation Exercise 1\n",
    "- Reading in spatial data\n",
    "- Understanding the geometry column\n",
    "- Coordinate reference systems\n",
    "- Plotting maps (chloropleth, point data, categorical data & multiple map layers)\n",
    "\n",
    "10.45-11.00: Break\n",
    "\n",
    "11.00-12.30: Spatial data analysis Exercise 2\n",
    "- Subplots\n",
    "- Geometric manipulations\n",
    "- Sub-setting and  aggregating spatial data\n",
    "- Spatial and non-spatially joining data\n",
    "\n",
    "12.30-13.30: Lunch break\n",
    "\n",
    "13.30-14.45: Putting it into practice: Own data or one of two examples:\n",
    "- CDRC data: House price and healthy environmental attributes\n",
    "- CDRC DATA: Broadband speed and Internet usage\n",
    "\n",
    "14.45-15.00: Break\n",
    "\n",
    "15.00-16.30/17:00: Putting it into Practice cont."
   ]
  },
  {
   "cell_type": "markdown",
   "metadata": {},
   "source": [
    "# CDRC Data"
   ]
  },
  {
   "cell_type": "code",
   "execution_count": 1,
   "metadata": {},
   "outputs": [
    {
     "name": "stderr",
     "output_type": "stream",
     "text": [
      "/opt/anaconda3/envs/cdrc_test/lib/python3.8/site-packages/pysal/explore/segregation/network/network.py:15: UserWarning: You need pandana and urbanaccess to work with segregation's network module\n",
      "You can install them with  `pip install urbanaccess pandana` or `conda install -c udst pandana urbanaccess`\n",
      "  warn(\n",
      "/opt/anaconda3/envs/cdrc_test/lib/python3.8/site-packages/pysal/model/spvcm/abstracts.py:10: UserWarning: The `dill` module is required to use the sqlite backend fully.\n",
      "  from .sqlite import head_to_sql, start_sql\n"
     ]
    }
   ],
   "source": [
    "#Import the required packages\n",
    "import pysal\n",
    "import pandas as pd\n",
    "import numpy as np\n",
    "import geopandas as gpd\n",
    "import matplotlib.pyplot as plt\n",
    "import pyproj\n",
    "import contextily as ctx\n",
    "import seaborn as sns\n",
    "\n",
    "from sklearn.linear_model import LinearRegression\n",
    "import statsmodels.api as sm\n",
    "from statsmodels.graphics.gofplots import qqplot"
   ]
  },
  {
   "cell_type": "code",
   "execution_count": 3,
   "metadata": {},
   "outputs": [
    {
     "ename": "ModuleNotFoundError",
     "evalue": "No module named 'geoplot'",
     "output_type": "error",
     "traceback": [
      "\u001b[0;31m---------------------------------------------------------------------------\u001b[0m",
      "\u001b[0;31mModuleNotFoundError\u001b[0m                       Traceback (most recent call last)",
      "\u001b[0;32m<ipython-input-3-142d4d096f19>\u001b[0m in \u001b[0;36m<module>\u001b[0;34m\u001b[0m\n\u001b[1;32m      8\u001b[0m \u001b[0;32mimport\u001b[0m \u001b[0mcontextily\u001b[0m \u001b[0;32mas\u001b[0m \u001b[0mctx\u001b[0m\u001b[0;34m\u001b[0m\u001b[0;34m\u001b[0m\u001b[0m\n\u001b[1;32m      9\u001b[0m \u001b[0;32mimport\u001b[0m \u001b[0mseaborn\u001b[0m \u001b[0;32mas\u001b[0m \u001b[0msns\u001b[0m\u001b[0;34m\u001b[0m\u001b[0;34m\u001b[0m\u001b[0m\n\u001b[0;32m---> 10\u001b[0;31m \u001b[0;32mimport\u001b[0m \u001b[0mgeoplot\u001b[0m \u001b[0;32mas\u001b[0m \u001b[0mgplt\u001b[0m\u001b[0;34m\u001b[0m\u001b[0;34m\u001b[0m\u001b[0m\n\u001b[0m",
      "\u001b[0;31mModuleNotFoundError\u001b[0m: No module named 'geoplot'"
     ]
    }
   ],
   "source": [
    "\n",
    "#Import the required packages\n",
    "\n",
    "import pandas as pd\n",
    "import numpy as np\n",
    "import geopandas as gpd\n",
    "import matplotlib.pyplot as plt\n",
    "import pyproj\n",
    "import contextily as ctx\n",
    "import seaborn as sns\n",
    "import geoplot as gplt"
   ]
  },
  {
   "cell_type": "markdown",
   "metadata": {},
   "source": [
    "\n",
    "\n",
    "## Option 1: \n",
    "\n",
    "It is possible that broadband speed affects usership classification: the faster your broadband the more likely you are to use it. You will investigate this using the Internet user classification (IUC), a bespoke classification that describes how people living in different parts of Great Britain interact with the Internet alongside broadband speed data from Ofcom. \n",
    "\n",
    "### Where to find the data:\n",
    "https://data.cdrc.ac.uk/geodata-packs\n",
    "\n",
    "- Internet User Classification (IUC) : West Yorkshire (or region of Choice)\n",
    "- Broadband-speed : West Yorkshire (or region of Choice)\n",
    "\n",
    "\n",
    "1. Download the data\n",
    "2. Save the data in an appropriate file path\n",
    "\n",
    "Meta data:\n",
    "\n",
    "ICU: aggregate population profiles of Internet use and engagement at the Lower Super Output Area (LSOA). [Full metadata](https://data.cdrc.ac.uk/system/files/iuc2018userguide.pdf)\n",
    "\n",
    "Broadband speed:the average fixed-line broadband speed by output area, based on 2016, 2017 and 2018 data released by Ofcom at the Lower Super Output Area (LSOA). [Full metadata](https://data.cdrc.ac.uk/dataset/broadband-speed)\n",
    "\n",
    "\n",
    "\n",
    "\n",
    "\n",
    "\n",
    "\n",
    "## Option 2: House price and AHAH\n",
    "\n",
    "Have a look at house price where you live and see if this varies in line with environmental features of that area. \n",
    "The data available to download includes Median House Prices (Quarterly) for the years 1995-2018 and the Access to Healthy Assets & Hazards (AHAH)data. The AHAH data is a multi-dimensional index developed by the CDRC for Great Britain measuring how ‘healthy’ neighbourhoods are. \n",
    "\n",
    "The AHAH Index includes:\n",
    "- Retail environment (access to fast food outlets, pubs, off-licences, tobacconists, gambling outlets),\n",
    "- Health services (access to GPs, hospitals, pharmacies, dentists, leisure services),\n",
    "- Physical environment (Blue Space, Green Space - Active, Green Space - Passive), and\n",
    "- Air quality (Nitrogen Dioxide, Particulate Matter 10, Sulphur Dioxide).\n",
    "\n",
    "Presence or absence of these environmental features may influence how attractive an environment is to live in and therefore house price. These variables may also be proxy for other facotrs, e.g. air pollution may give an idea of traffic volume.\n",
    "\n",
    "\n",
    "### Where to find the data:\n",
    "https://data.cdrc.ac.uk/geodata-packs\n",
    "\n",
    "- Access to Healthy Assets and Hazards AHAH : West Yorkshire (or region of Choice)\n",
    "- Housing Prices : West Yorkshire (or region of Choice)\n",
    "\n",
    "\n",
    "1. Download the data\n",
    "2. Save the data in an appropriate file path\n",
    "\n",
    "About the datasets:\n",
    "\n",
    "\n",
    "### Census data\n",
    "We will also show you how to [download census data](http://infuse.ukdataservice.ac.uk) that you can also add to your data exploration and analysis of house price or internet usage. \n",
    "\n"
   ]
  },
  {
   "cell_type": "markdown",
   "metadata": {},
   "source": [
    "## Option 1: Getting started"
   ]
  },
  {
   "cell_type": "code",
   "execution_count": 2,
   "metadata": {},
   "outputs": [
    {
     "ename": "DriverError",
     "evalue": "/Users/franpontin/Downloads/data-3/Internet_User_Classification/Combined_Authorities/E47000003/shapefiles/E47000003.shp: No such file or directory",
     "output_type": "error",
     "traceback": [
      "\u001b[0;31m---------------------------------------------------------------------------\u001b[0m",
      "\u001b[0;31mCPLE_OpenFailedError\u001b[0m                      Traceback (most recent call last)",
      "\u001b[0;32mfiona/_shim.pyx\u001b[0m in \u001b[0;36mfiona._shim.gdal_open_vector\u001b[0;34m()\u001b[0m\n",
      "\u001b[0;32mfiona/_err.pyx\u001b[0m in \u001b[0;36mfiona._err.exc_wrap_pointer\u001b[0;34m()\u001b[0m\n",
      "\u001b[0;31mCPLE_OpenFailedError\u001b[0m: /Users/franpontin/Downloads/data-3/Internet_User_Classification/Combined_Authorities/E47000003/shapefiles/E47000003.shp: No such file or directory",
      "\nDuring handling of the above exception, another exception occurred:\n",
      "\u001b[0;31mDriverError\u001b[0m                               Traceback (most recent call last)",
      "\u001b[0;32m<ipython-input-2-88567c51f91d>\u001b[0m in \u001b[0;36m<module>\u001b[0;34m\u001b[0m\n\u001b[0;32m----> 1\u001b[0;31m \u001b[0minternet_shape\u001b[0m \u001b[0;34m=\u001b[0m \u001b[0mgpd\u001b[0m\u001b[0;34m.\u001b[0m\u001b[0mread_file\u001b[0m\u001b[0;34m(\u001b[0m\u001b[0;34m'/Users/franpontin/Downloads/data-3/Internet_User_Classification/Combined_Authorities/E47000003/shapefiles/E47000003.shp'\u001b[0m\u001b[0;34m)\u001b[0m\u001b[0;34m\u001b[0m\u001b[0;34m\u001b[0m\u001b[0m\n\u001b[0m\u001b[1;32m      2\u001b[0m \u001b[0minternet_data\u001b[0m \u001b[0;34m=\u001b[0m  \u001b[0mpd\u001b[0m\u001b[0;34m.\u001b[0m\u001b[0mread_csv\u001b[0m\u001b[0;34m(\u001b[0m\u001b[0;34m'/Users/franpontin/Downloads/data-3/Internet_User_Classification/Combined_Authorities/E47000003/tables/E47000003.csv'\u001b[0m\u001b[0;34m)\u001b[0m\u001b[0;34m\u001b[0m\u001b[0;34m\u001b[0m\u001b[0m\n\u001b[1;32m      3\u001b[0m \u001b[0;34m\u001b[0m\u001b[0m\n\u001b[1;32m      4\u001b[0m \u001b[0minternet\u001b[0m  \u001b[0;34m=\u001b[0m \u001b[0mpd\u001b[0m\u001b[0;34m.\u001b[0m\u001b[0mmerge\u001b[0m\u001b[0;34m(\u001b[0m\u001b[0minternet_shape\u001b[0m\u001b[0;34m,\u001b[0m \u001b[0minternet_data\u001b[0m\u001b[0;34m,\u001b[0m  \u001b[0mon\u001b[0m\u001b[0;34m=\u001b[0m\u001b[0;34m'lsoa11cd'\u001b[0m\u001b[0;34m,\u001b[0m  \u001b[0mhow\u001b[0m\u001b[0;34m=\u001b[0m\u001b[0;34m'left'\u001b[0m\u001b[0;34m)\u001b[0m\u001b[0;34m\u001b[0m\u001b[0;34m\u001b[0m\u001b[0m\n\u001b[1;32m      5\u001b[0m \u001b[0minternet\u001b[0m\u001b[0;34m.\u001b[0m\u001b[0mhead\u001b[0m\u001b[0;34m(\u001b[0m\u001b[0;34m)\u001b[0m\u001b[0;34m\u001b[0m\u001b[0;34m\u001b[0m\u001b[0m\n",
      "\u001b[0;32m/opt/anaconda3/envs/cdrc_test/lib/python3.8/site-packages/geopandas/io/file.py\u001b[0m in \u001b[0;36mread_file\u001b[0;34m(filename, bbox, **kwargs)\u001b[0m\n\u001b[1;32m     74\u001b[0m \u001b[0;34m\u001b[0m\u001b[0m\n\u001b[1;32m     75\u001b[0m     \u001b[0;32mwith\u001b[0m \u001b[0mfiona_env\u001b[0m\u001b[0;34m(\u001b[0m\u001b[0;34m)\u001b[0m\u001b[0;34m:\u001b[0m\u001b[0;34m\u001b[0m\u001b[0;34m\u001b[0m\u001b[0m\n\u001b[0;32m---> 76\u001b[0;31m         \u001b[0;32mwith\u001b[0m \u001b[0mreader\u001b[0m\u001b[0;34m(\u001b[0m\u001b[0mpath_or_bytes\u001b[0m\u001b[0;34m,\u001b[0m \u001b[0;34m**\u001b[0m\u001b[0mkwargs\u001b[0m\u001b[0;34m)\u001b[0m \u001b[0;32mas\u001b[0m \u001b[0mfeatures\u001b[0m\u001b[0;34m:\u001b[0m\u001b[0;34m\u001b[0m\u001b[0;34m\u001b[0m\u001b[0m\n\u001b[0m\u001b[1;32m     77\u001b[0m \u001b[0;34m\u001b[0m\u001b[0m\n\u001b[1;32m     78\u001b[0m             \u001b[0;31m# In a future Fiona release the crs attribute of features will\u001b[0m\u001b[0;34m\u001b[0m\u001b[0;34m\u001b[0m\u001b[0;34m\u001b[0m\u001b[0m\n",
      "\u001b[0;32m/opt/anaconda3/envs/cdrc_test/lib/python3.8/site-packages/fiona/env.py\u001b[0m in \u001b[0;36mwrapper\u001b[0;34m(*args, **kwargs)\u001b[0m\n\u001b[1;32m    398\u001b[0m     \u001b[0;32mdef\u001b[0m \u001b[0mwrapper\u001b[0m\u001b[0;34m(\u001b[0m\u001b[0;34m*\u001b[0m\u001b[0margs\u001b[0m\u001b[0;34m,\u001b[0m \u001b[0;34m**\u001b[0m\u001b[0mkwargs\u001b[0m\u001b[0;34m)\u001b[0m\u001b[0;34m:\u001b[0m\u001b[0;34m\u001b[0m\u001b[0;34m\u001b[0m\u001b[0m\n\u001b[1;32m    399\u001b[0m         \u001b[0;32mif\u001b[0m \u001b[0mlocal\u001b[0m\u001b[0;34m.\u001b[0m\u001b[0m_env\u001b[0m\u001b[0;34m:\u001b[0m\u001b[0;34m\u001b[0m\u001b[0;34m\u001b[0m\u001b[0m\n\u001b[0;32m--> 400\u001b[0;31m             \u001b[0;32mreturn\u001b[0m \u001b[0mf\u001b[0m\u001b[0;34m(\u001b[0m\u001b[0;34m*\u001b[0m\u001b[0margs\u001b[0m\u001b[0;34m,\u001b[0m \u001b[0;34m**\u001b[0m\u001b[0mkwargs\u001b[0m\u001b[0;34m)\u001b[0m\u001b[0;34m\u001b[0m\u001b[0;34m\u001b[0m\u001b[0m\n\u001b[0m\u001b[1;32m    401\u001b[0m         \u001b[0;32melse\u001b[0m\u001b[0;34m:\u001b[0m\u001b[0;34m\u001b[0m\u001b[0;34m\u001b[0m\u001b[0m\n\u001b[1;32m    402\u001b[0m             \u001b[0;32mif\u001b[0m \u001b[0misinstance\u001b[0m\u001b[0;34m(\u001b[0m\u001b[0margs\u001b[0m\u001b[0;34m[\u001b[0m\u001b[0;36m0\u001b[0m\u001b[0;34m]\u001b[0m\u001b[0;34m,\u001b[0m \u001b[0mstr\u001b[0m\u001b[0;34m)\u001b[0m\u001b[0;34m:\u001b[0m\u001b[0;34m\u001b[0m\u001b[0;34m\u001b[0m\u001b[0m\n",
      "\u001b[0;32m/opt/anaconda3/envs/cdrc_test/lib/python3.8/site-packages/fiona/__init__.py\u001b[0m in \u001b[0;36mopen\u001b[0;34m(fp, mode, driver, schema, crs, encoding, layer, vfs, enabled_drivers, crs_wkt, **kwargs)\u001b[0m\n\u001b[1;32m    254\u001b[0m \u001b[0;34m\u001b[0m\u001b[0m\n\u001b[1;32m    255\u001b[0m         \u001b[0;32mif\u001b[0m \u001b[0mmode\u001b[0m \u001b[0;32min\u001b[0m \u001b[0;34m(\u001b[0m\u001b[0;34m'a'\u001b[0m\u001b[0;34m,\u001b[0m \u001b[0;34m'r'\u001b[0m\u001b[0;34m)\u001b[0m\u001b[0;34m:\u001b[0m\u001b[0;34m\u001b[0m\u001b[0;34m\u001b[0m\u001b[0m\n\u001b[0;32m--> 256\u001b[0;31m             c = Collection(path, mode, driver=driver, encoding=encoding,\n\u001b[0m\u001b[1;32m    257\u001b[0m                            layer=layer, enabled_drivers=enabled_drivers, **kwargs)\n\u001b[1;32m    258\u001b[0m         \u001b[0;32melif\u001b[0m \u001b[0mmode\u001b[0m \u001b[0;34m==\u001b[0m \u001b[0;34m'w'\u001b[0m\u001b[0;34m:\u001b[0m\u001b[0;34m\u001b[0m\u001b[0;34m\u001b[0m\u001b[0m\n",
      "\u001b[0;32m/opt/anaconda3/envs/cdrc_test/lib/python3.8/site-packages/fiona/collection.py\u001b[0m in \u001b[0;36m__init__\u001b[0;34m(self, path, mode, driver, schema, crs, encoding, layer, vsi, archive, enabled_drivers, crs_wkt, ignore_fields, ignore_geometry, **kwargs)\u001b[0m\n\u001b[1;32m    160\u001b[0m             \u001b[0;32mif\u001b[0m \u001b[0mself\u001b[0m\u001b[0;34m.\u001b[0m\u001b[0mmode\u001b[0m \u001b[0;34m==\u001b[0m \u001b[0;34m'r'\u001b[0m\u001b[0;34m:\u001b[0m\u001b[0;34m\u001b[0m\u001b[0;34m\u001b[0m\u001b[0m\n\u001b[1;32m    161\u001b[0m                 \u001b[0mself\u001b[0m\u001b[0;34m.\u001b[0m\u001b[0msession\u001b[0m \u001b[0;34m=\u001b[0m \u001b[0mSession\u001b[0m\u001b[0;34m(\u001b[0m\u001b[0;34m)\u001b[0m\u001b[0;34m\u001b[0m\u001b[0;34m\u001b[0m\u001b[0m\n\u001b[0;32m--> 162\u001b[0;31m                 \u001b[0mself\u001b[0m\u001b[0;34m.\u001b[0m\u001b[0msession\u001b[0m\u001b[0;34m.\u001b[0m\u001b[0mstart\u001b[0m\u001b[0;34m(\u001b[0m\u001b[0mself\u001b[0m\u001b[0;34m,\u001b[0m \u001b[0;34m**\u001b[0m\u001b[0mkwargs\u001b[0m\u001b[0;34m)\u001b[0m\u001b[0;34m\u001b[0m\u001b[0;34m\u001b[0m\u001b[0m\n\u001b[0m\u001b[1;32m    163\u001b[0m             \u001b[0;32melif\u001b[0m \u001b[0mself\u001b[0m\u001b[0;34m.\u001b[0m\u001b[0mmode\u001b[0m \u001b[0;32min\u001b[0m \u001b[0;34m(\u001b[0m\u001b[0;34m'a'\u001b[0m\u001b[0;34m,\u001b[0m \u001b[0;34m'w'\u001b[0m\u001b[0;34m)\u001b[0m\u001b[0;34m:\u001b[0m\u001b[0;34m\u001b[0m\u001b[0;34m\u001b[0m\u001b[0m\n\u001b[1;32m    164\u001b[0m                 \u001b[0mself\u001b[0m\u001b[0;34m.\u001b[0m\u001b[0msession\u001b[0m \u001b[0;34m=\u001b[0m \u001b[0mWritingSession\u001b[0m\u001b[0;34m(\u001b[0m\u001b[0;34m)\u001b[0m\u001b[0;34m\u001b[0m\u001b[0;34m\u001b[0m\u001b[0m\n",
      "\u001b[0;32mfiona/ogrext.pyx\u001b[0m in \u001b[0;36mfiona.ogrext.Session.start\u001b[0;34m()\u001b[0m\n",
      "\u001b[0;32mfiona/_shim.pyx\u001b[0m in \u001b[0;36mfiona._shim.gdal_open_vector\u001b[0;34m()\u001b[0m\n",
      "\u001b[0;31mDriverError\u001b[0m: /Users/franpontin/Downloads/data-3/Internet_User_Classification/Combined_Authorities/E47000003/shapefiles/E47000003.shp: No such file or directory"
     ]
    }
   ],
   "source": [
    "internet_shape = gpd.read_file('/Users/franpontin/Downloads/data-3/Internet_User_Classification/Combined_Authorities/E47000003/shapefiles/E47000003.shp')\n",
    "internet_data =  pd.read_csv('/Users/franpontin/Downloads/data-3/Internet_User_Classification/Combined_Authorities/E47000003/tables/E47000003.csv')        \n",
    "\n",
    "internet  = pd.merge(internet_shape, internet_data,  on='lsoa11cd',  how='left')\n",
    "internet.head()"
   ]
  },
  {
   "cell_type": "code",
   "execution_count": null,
   "metadata": {
    "scrolled": true
   },
   "outputs": [],
   "source": [
    "f,ax = plt.subplots(1, figsize=(16,8))\n",
    "\n",
    "internet.plot('GRP_LABEL', categorical=True, legend=True,ax=ax)\n",
    "\n",
    "# make axis invisible for subplot 1\n",
    "ax.set_axis_off()\n",
    "\n",
    "# Adjust legend location\n",
    "leg = ax.get_legend()\n",
    "leg.set_bbox_to_anchor((1.0,0.9))\n",
    "\n",
    "plt.show()"
   ]
  },
  {
   "cell_type": "code",
   "execution_count": null,
   "metadata": {
    "scrolled": true
   },
   "outputs": [],
   "source": [
    "broadband_shape = gpd.read_file('/Users/franpontin/Downloads/data-4/Fixed_Broadband/Combined_Authorities/E47000003/shapefiles/E47000003.shp')\n",
    "broadband_data =  pd.read_csv('/Users/franpontin/Downloads/data-4/Fixed_Broadband/Combined_Authorities/E47000003/tables/E47000003_2018.csv')        \n",
    "\n",
    "broadband  = pd.merge(broadband_shape, broadband_data,  on='lsoa11cd',  how='left')\n",
    "broadband.head()"
   ]
  },
  {
   "cell_type": "code",
   "execution_count": null,
   "metadata": {},
   "outputs": [],
   "source": [
    "f,ax = plt.subplots(1, figsize=(16,8))\n",
    "\n",
    "broadband.plot('Average.download.speed..Mbit.s.', legend=True,ax=ax)\n",
    "\n",
    "# make axis invisible for subplot 1\n",
    "ax.set_axis_off()\n",
    "\n",
    "plt.show()"
   ]
  },
  {
   "cell_type": "code",
   "execution_count": null,
   "metadata": {},
   "outputs": [],
   "source": [
    "int_broad = gpd.sjoin(internet, broadband, how='left')"
   ]
  },
  {
   "cell_type": "code",
   "execution_count": null,
   "metadata": {
    "scrolled": false
   },
   "outputs": [],
   "source": [
    "f,ax = plt.subplots(1, figsize=(12,10))\n",
    "sns.heatmap(int_broad.corr(),cmap='viridis')\n",
    "plt.show()"
   ]
  },
  {
   "cell_type": "code",
   "execution_count": null,
   "metadata": {
    "scrolled": true
   },
   "outputs": [],
   "source": [
    "GRP_dummies =pd.get_dummies(int_broad[\"GRP_LABEL\"], prefix='GRP')\n",
    "int_broad_dummies = pd.concat([int_broad,GRP_dummies], axis=1)"
   ]
  },
  {
   "cell_type": "code",
   "execution_count": null,
   "metadata": {
    "scrolled": true
   },
   "outputs": [],
   "source": [
    "# predict average data usage given the internet user classification\n",
    "\n",
    "# define X and y\n",
    "X = int_broad_dummies[['GRP_Digital Seniors', 'GRP_Passive and Uncommitted Users',\n",
    "       'GRP_Settled Offline Communities', 'GRP_Youthful Urban Fringe',\n",
    "       'GRP_e-Cultural Creators',  'GRP_e-Professionals',\n",
    "       'GRP_e-Rational Utilitarians', 'GRP_e-Veterans','GRP_e-Withdrawn']] # explanatory variable\n",
    "y = int_broad_dummies['Average.data.usage..GB.'] # dependent variable\n",
    "\n",
    "# Fit the model\n",
    "model = sm.OLS(y, X.astype(float)).fit()\n",
    "\n",
    "predictions = model.predict(X) # make the predictions by the model\n",
    "\n",
    "# Print out the statistics\n",
    "model.summary()"
   ]
  },
  {
   "cell_type": "code",
   "execution_count": null,
   "metadata": {},
   "outputs": [],
   "source": [
    "fig, ax = plt.subplots(figsize=(5,5))\n",
    "\n",
    "sns.scatterplot( int_broad_dummies['Average.data.usage..GB.'],model.fittedvalues);\n",
    "\n",
    "# label title and axis\n",
    "ax.set_title('Predicted Vs Actual')\n",
    "ax.set_xlabel('Actual data usage')\n",
    "ax.set_ylabel('Predicted data usage');"
   ]
  },
  {
   "cell_type": "code",
   "execution_count": null,
   "metadata": {},
   "outputs": [],
   "source": [
    "# Plot residuals plot\n",
    "\n",
    "g =sns.jointplot(model.fittedvalues, model.resid_pearson, kind='resid',height=10)\n",
    "\n",
    "g.set_axis_labels('Fitted values', 'Residuals', fontsize=16);"
   ]
  },
  {
   "cell_type": "markdown",
   "metadata": {},
   "source": [
    "## Option 2: Getting started"
   ]
  },
  {
   "cell_type": "code",
   "execution_count": null,
   "metadata": {},
   "outputs": [],
   "source": [
    "# change the file path to match where you saved the data (don't keep it in your downalods like me!)\n",
    "house_shape = gpd.read_file('/Users/franpontin/Downloads/data/Housing_Prices/Combined_Authorities/E47000003/shapefiles/E47000003.shp')"
   ]
  },
  {
   "cell_type": "code",
   "execution_count": null,
   "metadata": {},
   "outputs": [],
   "source": [
    "house_price =pd.read_csv('/Users/franpontin/Downloads/data/Housing_Prices/Combined_Authorities/E47000003/tables/E47000003_LR001MED.csv')"
   ]
  },
  {
   "cell_type": "code",
   "execution_count": null,
   "metadata": {
    "scrolled": true
   },
   "outputs": [],
   "source": [
    "house_price.head()"
   ]
  },
  {
   "cell_type": "code",
   "execution_count": null,
   "metadata": {
    "scrolled": false
   },
   "outputs": [],
   "source": [
    "house  = pd.merge(house_shape, house_price,  on='lsoa11cd',  how='left')\n",
    "house.head()"
   ]
  },
  {
   "cell_type": "code",
   "execution_count": null,
   "metadata": {},
   "outputs": [],
   "source": [
    "f,ax = plt.subplots(1, figsize=(16,8))\n",
    "house.plot(column='median_18Q2',ax=ax, legend=True)\n",
    "ctx.add_basemap(ax=ax)\n",
    "plt.show();"
   ]
  },
  {
   "cell_type": "code",
   "execution_count": null,
   "metadata": {},
   "outputs": [],
   "source": [
    "AHAH_shape =gpd.read_file('/Users/franpontin/Downloads/data-2/Access_to_Healthy_Assets_and_Hazards_AHAH/Combined_Authorities/E47000003/shapefiles/E47000003.shp')\n",
    "AHAH_data = pd.read_csv('/Users/franpontin/Downloads/data-2/Access_to_Healthy_Assets_and_Hazards_AHAH/Combined_Authorities/E47000003/tables/E47000003.csv')\n",
    "\n",
    "AHAH = pd.merge(AHAH_shape, AHAH_data,  on='lsoa11cd',  how='left')"
   ]
  },
  {
   "cell_type": "code",
   "execution_count": null,
   "metadata": {
    "scrolled": false
   },
   "outputs": [],
   "source": [
    "AHAH.head()"
   ]
  },
  {
   "cell_type": "markdown",
   "metadata": {},
   "source": [
    "Check CRS"
   ]
  },
  {
   "cell_type": "code",
   "execution_count": null,
   "metadata": {},
   "outputs": [],
   "source": [
    "AHAH.crs"
   ]
  },
  {
   "cell_type": "markdown",
   "metadata": {},
   "source": [
    "Note CRS: 'tmerc' learn more here: https://proj.org/operations/projections/tmerc.html"
   ]
  },
  {
   "cell_type": "markdown",
   "metadata": {},
   "source": [
    "Ensure AHAH CRS the same as the house CRS (to allow overlayed mapping) "
   ]
  },
  {
   "cell_type": "code",
   "execution_count": null,
   "metadata": {},
   "outputs": [],
   "source": [
    "AHAH = AHAH.to_crs(house.crs)"
   ]
  },
  {
   "cell_type": "code",
   "execution_count": null,
   "metadata": {},
   "outputs": [],
   "source": [
    "AHAH.plot();"
   ]
  },
  {
   "cell_type": "code",
   "execution_count": null,
   "metadata": {
    "scrolled": true
   },
   "outputs": [],
   "source": [
    "AHAH.columns"
   ]
  },
  {
   "cell_type": "code",
   "execution_count": null,
   "metadata": {},
   "outputs": [],
   "source": [
    "AHAH.plot(column='g_rank', legend =True)"
   ]
  },
  {
   "cell_type": "markdown",
   "metadata": {},
   "source": [
    "Data for the AHAH index was collected in or as close to 2016 as possible. So we might only want to look at how environmental quality affects house price in 2016."
   ]
  },
  {
   "cell_type": "code",
   "execution_count": null,
   "metadata": {},
   "outputs": [],
   "source": [
    "house_16 = house[['lsoa11cd', 'geometry', 'CAUTH18NM', 'lsoa11nm','median_16Q1',\n",
    "       'median_16Q2', 'median_16Q3', 'median_16Q4']]"
   ]
  },
  {
   "cell_type": "code",
   "execution_count": null,
   "metadata": {},
   "outputs": [],
   "source": [
    "house_16.head()"
   ]
  },
  {
   "cell_type": "code",
   "execution_count": null,
   "metadata": {},
   "outputs": [],
   "source": [
    "house_16.groupby(['median_16Q2', 'median_16Q3', 'median_16Q4'])"
   ]
  },
  {
   "cell_type": "code",
   "execution_count": null,
   "metadata": {},
   "outputs": [],
   "source": [
    "house_16['mean_16'] = house_16.loc[: , ['median_16Q2', 'median_16Q3', 'median_16Q4']].mean(axis=1)\n",
    "house_16.head()"
   ]
  },
  {
   "cell_type": "code",
   "execution_count": null,
   "metadata": {},
   "outputs": [],
   "source": [
    "AHAH_house = gpd.sjoin(house_16, AHAH, how='left')"
   ]
  },
  {
   "cell_type": "code",
   "execution_count": null,
   "metadata": {},
   "outputs": [],
   "source": [
    "AHAH_house.plot(column='mean_16')"
   ]
  },
  {
   "cell_type": "code",
   "execution_count": null,
   "metadata": {},
   "outputs": [],
   "source": [
    "AHAH_house.columns"
   ]
  },
  {
   "cell_type": "code",
   "execution_count": null,
   "metadata": {},
   "outputs": [],
   "source": [
    "AHAH_house.plot(column='g_rank')"
   ]
  },
  {
   "cell_type": "code",
   "execution_count": null,
   "metadata": {},
   "outputs": [],
   "source": [
    "AHAH_house.corr()"
   ]
  },
  {
   "cell_type": "code",
   "execution_count": null,
   "metadata": {},
   "outputs": [],
   "source": [
    "f,ax = plt.subplots(1, figsize=(12,12))\n",
    "sns.heatmap(AHAH_house.corr());"
   ]
  },
  {
   "cell_type": "code",
   "execution_count": null,
   "metadata": {},
   "outputs": [],
   "source": [
    "AHAH_house['lsoa11nm_left']"
   ]
  },
  {
   "cell_type": "code",
   "execution_count": null,
   "metadata": {},
   "outputs": [],
   "source": [
    "AHAH_district = AHAH_house.dissolve(by='lsoa11nm_left', aggfunc='median').reset_index()"
   ]
  },
  {
   "cell_type": "markdown",
   "metadata": {},
   "source": [
    "Think carefully about how you want to aggregate the columns, we can also assign an aggfunction to each column (as we did with <code>.agg()</code> in day 1 when looking at the bike share data.\n",
    "\n",
    "E.g.\n",
    "<code>, aggfunc={'r_rank':'mean','r_exp':'max'})</code>\n",
    "\n",
    "There is no quick way to assign multiple columns the same function so with a large dataset you might want to consider which columns you include in the aggregated spatial data frame. \n"
   ]
  },
  {
   "cell_type": "markdown",
   "metadata": {},
   "source": [
    "Check size and shape as expected"
   ]
  },
  {
   "cell_type": "code",
   "execution_count": null,
   "metadata": {},
   "outputs": [],
   "source": [
    "AHAH_house.loc[AHAH_house['lsoa11nm_left']=='Bradford 001A',['lsoa11nm_left','r_rank','r_exp']]"
   ]
  },
  {
   "cell_type": "code",
   "execution_count": null,
   "metadata": {},
   "outputs": [],
   "source": [
    "print('districts:',AHAH_district.shape, 'lsoa:',AHAH_house.shape)"
   ]
  },
  {
   "cell_type": "code",
   "execution_count": null,
   "metadata": {},
   "outputs": [],
   "source": [
    "AHAH_house['g_rank'].max()"
   ]
  },
  {
   "cell_type": "markdown",
   "metadata": {},
   "source": [
    "Plot both districts and lsoa to get an idea of the difference in spatial scale"
   ]
  },
  {
   "cell_type": "code",
   "execution_count": null,
   "metadata": {},
   "outputs": [],
   "source": [
    "fig,ax = plt.subplots(1,2, figsize=(16,8))\n",
    "\n",
    "# plot district level data\n",
    "AHAH_district.plot(column='g_dec',ax=ax[0], legend=True)\n",
    "\n",
    "# plot lsoa level data\n",
    "AHAH_house.plot(column='g_dec',ax=ax[1],  legend=True)\n",
    "\n",
    "# give subplot 1 an informative title\n",
    "ax[0].set_title('Districts: greenspace ranking')\n",
    "\n",
    "# give subplot 2 an informative title\n",
    "ax[1].set_title('LSOA: greenspace ranking')\n",
    "\n",
    "# make axis invisible for subplot 1\n",
    "ax[0].set_axis_off()\n",
    "\n",
    "# make axis invisible for subplot 1\n",
    "ax[1].set_axis_off()\n",
    "\n",
    "# show figure\n",
    "plt.show()\n"
   ]
  }
 ],
 "metadata": {
  "kernelspec": {
   "display_name": "Python 3",
   "language": "python",
   "name": "python3"
  },
  "language_info": {
   "codemirror_mode": {
    "name": "ipython",
    "version": 3
   },
   "file_extension": ".py",
   "mimetype": "text/x-python",
   "name": "python",
   "nbconvert_exporter": "python",
   "pygments_lexer": "ipython3",
   "version": "3.8.8"
  },
  "toc": {
   "base_numbering": 1,
   "nav_menu": {},
   "number_sections": true,
   "sideBar": true,
   "skip_h1_title": false,
   "title_cell": "Table of Contents",
   "title_sidebar": "Contents",
   "toc_cell": false,
   "toc_position": {
    "height": "calc(100% - 180px)",
    "left": "10px",
    "top": "150px",
    "width": "376.4705810546875px"
   },
   "toc_section_display": true,
   "toc_window_display": true
  }
 },
 "nbformat": 4,
 "nbformat_minor": 2
}
